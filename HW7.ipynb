{
 "cells": [
  {
   "cell_type": "code",
   "execution_count": 2,
   "metadata": {},
   "outputs": [
    {
     "name": "stderr",
     "output_type": "stream",
     "text": [
      "C:\\Users\\User\\Anaconda3\\lib\\site-packages\\smart_open\\ssh.py:34: UserWarning: paramiko missing, opening SSH/SCP/SFTP paths will be disabled.  `pip install paramiko` to suppress\n",
      "  warnings.warn('paramiko missing, opening SSH/SCP/SFTP paths will be disabled.  `pip install paramiko` to suppress')\n"
     ]
    }
   ],
   "source": [
    "import re\n",
    "import gensim\n",
    "import logging\n",
    "import pandas as pd\n",
    "import urllib.request\n",
    "from gensim.models import word2vec"
   ]
  },
  {
   "cell_type": "code",
   "execution_count": 3,
   "metadata": {},
   "outputs": [
    {
     "data": {
      "text/plain": [
       "('ruscorpora_mystem_cbow_300_2_2015.bin.gz',\n",
       " <http.client.HTTPMessage at 0x1d2e6ac6e80>)"
      ]
     },
     "execution_count": 3,
     "metadata": {},
     "output_type": "execute_result"
    }
   ],
   "source": [
    "urllib.request.urlretrieve(\"http://rusvectores.org/static/models/rusvectores2/ruscorpora_mystem_cbow_300_2_2015.bin.gz\", \"ruscorpora_mystem_cbow_300_2_2015.bin.gz\")"
   ]
  },
  {
   "cell_type": "code",
   "execution_count": 4,
   "metadata": {},
   "outputs": [],
   "source": [
    "m = 'ruscorpora_mystem_cbow_300_2_2015.bin.gz'\n",
    "\n",
    "if m.endswith('.vec.gz'):\n",
    "    model = gensim.models.KeyedVectors.load_word2vec_format(m, binary=False)\n",
    "elif m.endswith('.bin.gz'):\n",
    "    model = gensim.models.KeyedVectors.load_word2vec_format(m, binary=True)\n",
    "else:\n",
    "    model = gensim.models.KeyedVectors.load(m)"
   ]
  },
  {
   "cell_type": "code",
   "execution_count": 33,
   "metadata": {},
   "outputs": [],
   "source": [
    "#задаем поле\n",
    "beruf = ['учитель_S']\n",
    "berufs = []"
   ]
  },
  {
   "cell_type": "code",
   "execution_count": 34,
   "metadata": {},
   "outputs": [
    {
     "name": "stdout",
     "output_type": "stream",
     "text": [
      "учитель_S\n",
      "[ 0.11652024  0.01452256  0.05845907  0.01017113 -0.0927788  -0.0257549\n",
      " -0.08726092  0.05530078  0.08454826 -0.0390706 ]\n",
      "педагог_S 0.6911770105361938\n",
      "учительница_S 0.6753074526786804\n",
      "ученик_S 0.6716691255569458\n",
      "преподаватель_S 0.6707792282104492\n",
      "воспитатель_S 0.6237852573394775\n",
      "наставник_S 0.5583474636077881\n",
      "ученица_S 0.5229167938232422\n",
      "воспитанник_S 0.5100011825561523\n",
      "репетитор_S 0.5084261894226074\n",
      "учащийся_S 0.5073457360267639\n",
      "\n",
      "\n",
      "['педагог_S', 'учительница_S', 'ученик_S', 'преподаватель_S', 'воспитатель_S', 'наставник_S', 'ученица_S', 'воспитанник_S', 'репетитор_S', 'учащийся_S']\n"
     ]
    }
   ],
   "source": [
    "for word in beruf:\n",
    "    # проверяем наличие слова в модели \n",
    "    if word in model:\n",
    "        print(word)\n",
    "        # смотрим на вектор слова \n",
    "        print(model[word][:10])\n",
    "        # выдаем 10 ближайших соседей слова:\n",
    "        for i in model.most_similar(positive=[word], topn=10):\n",
    "            # слово + коэффициент косинусной близости\n",
    "            print(i[0], i[1])\n",
    "            if i[1] >0.5:\n",
    "                berufs.append(i[0])\n",
    "        print('\\n')\n",
    "    else:\n",
    "        # Увы!\n",
    "        print('Увы, слова \"%s\" нет в модели!' % word)             \n",
    "print(berufs)"
   ]
  },
  {
   "cell_type": "code",
   "execution_count": 36,
   "metadata": {},
   "outputs": [
    {
     "name": "stdout",
     "output_type": "stream",
     "text": [
      "('педагог_S', 'учитель_S')\n",
      "('учительница_S', 'учитель_S')\n",
      "('ученик_S', 'учитель_S')\n",
      "('преподаватель_S', 'учитель_S')\n",
      "('воспитатель_S', 'учитель_S')\n",
      "('наставник_S', 'учитель_S')\n",
      "('ученица_S', 'учитель_S')\n",
      "('воспитанник_S', 'учитель_S')\n",
      "('репетитор_S', 'учитель_S')\n",
      "('учащийся_S', 'учитель_S')\n",
      "[('педагог_S', 'учитель_S'), ('учительница_S', 'учитель_S'), ('ученик_S', 'учитель_S'), ('преподаватель_S', 'учитель_S'), ('воспитатель_S', 'учитель_S'), ('наставник_S', 'учитель_S'), ('ученица_S', 'учитель_S'), ('воспитанник_S', 'учитель_S'), ('репетитор_S', 'учитель_S'), ('учащийся_S', 'учитель_S')]\n"
     ]
    }
   ],
   "source": [
    "edges = []\n",
    "for b in berufs:\n",
    "    edge = (b, beruf[0])\n",
    "    print(edge)\n",
    "    edges.append(edge)\n",
    "print(edges)"
   ]
  },
  {
   "cell_type": "code",
   "execution_count": 37,
   "metadata": {},
   "outputs": [],
   "source": [
    "import networkx as nx"
   ]
  },
  {
   "cell_type": "code",
   "execution_count": 52,
   "metadata": {},
   "outputs": [],
   "source": [
    "G = nx.Graph()\n",
    "G.add_nodes_from(beruf)\n",
    "G.add_edges_from(edges)"
   ]
  },
  {
   "cell_type": "code",
   "execution_count": 53,
   "metadata": {},
   "outputs": [
    {
     "name": "stdout",
     "output_type": "stream",
     "text": [
      "узлы ['учитель_S', 'педагог_S', 'учительница_S', 'ученик_S', 'преподаватель_S', 'воспитатель_S', 'наставник_S', 'ученица_S', 'воспитанник_S', 'репетитор_S', 'учащийся_S']\n",
      "рёбра [('учитель_S', 'педагог_S'), ('учитель_S', 'учительница_S'), ('учитель_S', 'ученик_S'), ('учитель_S', 'преподаватель_S'), ('учитель_S', 'воспитатель_S'), ('учитель_S', 'наставник_S'), ('учитель_S', 'ученица_S'), ('учитель_S', 'воспитанник_S'), ('учитель_S', 'репетитор_S'), ('учитель_S', 'учащийся_S')]\n"
     ]
    }
   ],
   "source": [
    "print('узлы', G.nodes())\n",
    "print('рёбра', G.edges())"
   ]
  },
  {
   "cell_type": "code",
   "execution_count": 54,
   "metadata": {},
   "outputs": [
    {
     "data": {
      "image/png": "[encoded data removed]",
      "text/plain": [
       "<Figure size 432x288 with 1 Axes>"
      ]
     },
     "metadata": {},
     "output_type": "display_data"
    }
   ],
   "source": [
    "import matplotlib.pyplot as plt\n",
    "from matplotlib import style\n",
    "style.use('ggplot') \n",
    "\n",
    "# для начала надо выбрать способ \"укладки\" графа. Их много, возьмём для начала такой:\n",
    "pos=nx.spring_layout(G)\n",
    "\n",
    "nx.draw_networkx_nodes(G, pos, node_color='red', node_size=50) # рисуем узлы красным цветом, задаём размер узла\n",
    "nx.draw_networkx_edges(G, pos, edge_color='yellow') # рисуем рёбра жёлтым\n",
    "plt.axis('off') # по умолчанию график будет снабжён осями с координатами, здесь они бессмысленны, так что отключаем\n",
    "plt.show() # что получилось?"
   ]
  },
  {
   "cell_type": "code",
   "execution_count": 55,
   "metadata": {},
   "outputs": [
    {
     "data": {
      "image/png": "[encoded data removed]",
      "text/plain": [
       "<Figure size 432x288 with 1 Axes>"
      ]
     },
     "metadata": {},
     "output_type": "display_data"
    }
   ],
   "source": [
    "nx.draw_networkx_nodes(G, pos, node_color='red', node_size=3) \n",
    "nx.draw_networkx_edges(G, pos, edge_color='yellow')\n",
    "nx.draw_networkx_labels(G, pos, font_size=10, font_family='Arial')\n",
    "plt.axis('off') \n",
    "plt.show()"
   ]
  },
  {
   "cell_type": "code",
   "execution_count": null,
   "metadata": {},
   "outputs": [],
   "source": [
    "#shell_layout"
   ]
  },
  {
   "cell_type": "code",
   "execution_count": null,
   "metadata": {},
   "outputs": [],
   "source": []
  },
  {
   "cell_type": "code",
   "execution_count": null,
   "metadata": {},
   "outputs": [],
   "source": []
  },
  {
   "cell_type": "code",
   "execution_count": 3,
   "metadata": {},
   "outputs": [],
   "source": [
    "plain_text = 'Произвольность_S знака, по поводу которой мы выше допускали теоретическую возможность перемены. Углубляясь в вопрос, мы усматриваем, что в действительности самая произвольность знака защищает язык от всякой попытки, направленной к его изменению. Говорящая масса, будь она даже сознательнее, не могла бы обсуждать вопросы языка. Ведь для того чтобы подвергать обсуждению какую-либо вещь, надо, чтобы она отвечала какой-то разумной норме.'"
   ]
  },
  {
   "cell_type": "code",
   "execution_count": 13,
   "metadata": {},
   "outputs": [
    {
     "name": "stdout",
     "output_type": "stream",
     "text": [
      "['Произвольность_S', 'знака,', 'по', 'поводу', 'которой', 'мы', 'выше', 'допускали', 'теоретическую', 'возможность', 'перемены.', 'Углубляясь', 'в', 'вопрос,', 'мы', 'усматриваем,', 'что', 'в', 'действительности', 'самая', 'произвольность', 'знака', 'защищает', 'язык', 'от', 'всякой', 'попытки,', 'направленной', 'к', 'его', 'изменению.', 'Говорящая', 'масса,', 'будь', 'она', 'даже', 'сознательнее,', 'не', 'могла', 'бы', 'обсуждать', 'вопросы', 'языка.', 'Ведь', 'для', 'того', 'чтобы', 'подвергать', 'обсуждению', 'какую-либо', 'вещь,', 'надо,', 'чтобы', 'она', 'отвечала', 'какой-то', 'разумной', 'норме.']\n"
     ]
    }
   ],
   "source": [
    "text = plain_text.split(' ')\n",
    "print(text)"
   ]
  },
  {
   "cell_type": "code",
   "execution_count": 21,
   "metadata": {},
   "outputs": [
    {
     "name": "stdout",
     "output_type": "stream",
     "text": [
      "Произвольность_S\n",
      "знака,\n",
      "по\n",
      "поводу\n",
      "которой\n",
      "мы\n",
      "выше\n",
      "допускали\n",
      "теоретическую\n",
      "возможность\n",
      "перемены.\n",
      "Углубляясь\n",
      "в\n",
      "вопрос,\n",
      "мы\n",
      "усматриваем,\n",
      "что\n",
      "в\n",
      "действительности\n",
      "самая\n",
      "произвольность\n",
      "знака\n",
      "защищает\n",
      "язык\n",
      "от\n",
      "всякой\n",
      "попытки,\n",
      "направленной\n",
      "к\n",
      "его\n",
      "изменению.\n",
      "Говорящая\n",
      "масса,\n",
      "будь\n",
      "она\n",
      "даже\n",
      "сознательнее,\n",
      "не\n",
      "могла\n",
      "бы\n",
      "обсуждать\n",
      "вопросы\n",
      "языка.\n",
      "Ведь\n",
      "для\n",
      "того\n",
      "чтобы\n",
      "подвергать\n",
      "обсуждению\n",
      "какую-либо\n",
      "вещь,\n",
      "надо,\n",
      "чтобы\n",
      "она\n",
      "отвечала\n",
      "какой-то\n",
      "разумной\n",
      "норме.\n"
     ]
    }
   ],
   "source": [
    "text = ['Произвольность_S', 'знака_S', 'поводу_S', 'которой_P', 'мы_P', 'допускали_V', 'возможность_S', 'перемены_S', 'Углубляясь_V', 'в', 'вопрос,', 'мы', 'усматриваем,', 'что', 'в', 'действительности', 'самая', 'произвольность', 'знака', 'защищает', 'язык', 'от', 'всякой', 'попытки,', 'направленной', 'к', 'его', 'изменению.', 'Говорящая', 'масса,', 'будь', 'она', 'даже', 'сознательнее,', 'не', 'могла', 'бы', 'обсуждать', 'вопросы', 'языка.', 'Ведь', 'для', 'того', 'чтобы', 'подвергать', 'обсуждению', 'какую-либо', 'вещь,', 'надо,', 'чтобы', 'она', 'отвечала', 'какой-то', 'разумной', 'норме.']\n",
    "   "
   ]
  },
  {
   "cell_type": "code",
   "execution_count": null,
   "metadata": {},
   "outputs": [],
   "source": [
    "обозначаем части речи пропустить через y_morphy"
   ]
  },
  {
   "cell_type": "code",
   "execution_count": null,
   "metadata": {},
   "outputs": [],
   "source": [
    "Взять слово, опредлить все слова которые втречаются на рассмотянии 3 от него и провести свзяь"
   ]
  },
  {
   "cell_type": "code",
   "execution_count": 26,
   "metadata": {},
   "outputs": [
    {
     "name": "stdout",
     "output_type": "stream",
     "text": [
      "тракторист_S\n",
      "[ 0.04066477 -0.09665042 -0.03725966  0.04195219  0.02256406 -0.02936959\n",
      " -0.03702025  0.01981226  0.16540398 -0.11574294]\n",
      "механизатор_S 0.5969146490097046\n",
      "бригадир_S 0.563754677772522\n",
      "слесарь_S 0.5596330165863037\n",
      "шофер_S 0.528299868106842\n",
      "машинист_S 0.5127851366996765\n",
      "бульдозерист_S 0.48221683502197266\n",
      "комбайнер_S 0.4792298972606659\n",
      "скотник_S 0.47825342416763306\n",
      "агроном_S 0.4699169993400574\n",
      "доярка_S 0.45570170879364014\n",
      "\n",
      "\n",
      "учительница_S\n",
      "[ 0.06564957  0.00682442 -0.03636581  0.01796682 -0.02466042 -0.09483731\n",
      " -0.07061664  0.0051861   0.01592761  0.00070114]\n",
      "учитель_S 0.6753073930740356\n",
      "преподавательница_S 0.591582179069519\n",
      "ученица_S 0.5857758522033691\n",
      "преподаватель_S 0.5594195127487183\n",
      "завуч_S 0.5367646217346191\n",
      "наставница_S 0.5230349898338318\n",
      "училка_S 0.49467700719833374\n",
      "воспитательница_S 0.4812968373298645\n",
      "преподавать_V 0.4752165675163269\n",
      "педагог_S 0.4691164195537567\n",
      "\n",
      "\n",
      "актер_S\n",
      "[ 0.05524576  0.08403965  0.0941639  -0.02058233  0.03977678  0.03826276\n",
      " -0.0034423   0.07174798  0.07930749 -0.03317941]\n",
      "артист_S 0.8223255276679993\n",
      "актриса_S 0.7733796834945679\n",
      "режиссер_S 0.72539222240448\n",
      "драматург_S 0.6391513347625732\n",
      "музыкант_S 0.6309781670570374\n",
      "артистка_S 0.6290199160575867\n",
      "спектакль_S 0.6147897839546204\n",
      "режиссура_S 0.5936028361320496\n",
      "художник_S 0.5922935605049133\n",
      "сцена_S 0.5825201272964478\n",
      "\n",
      "\n",
      "['механизатор_S', 'бригадир_S', 'слесарь_S', 'шофер_S', 'машинист_S', 'учитель_S', 'преподавательница_S', 'ученица_S', 'преподаватель_S', 'завуч_S', 'наставница_S', 'артист_S', 'актриса_S', 'режиссер_S', 'драматург_S', 'музыкант_S', 'артистка_S', 'спектакль_S', 'режиссура_S', 'художник_S', 'сцена_S']\n",
      "['тракторист_S', 'учительница_S', 'актер_S', 'механизатор_S', 'бригадир_S', 'слесарь_S', 'шофер_S', 'машинист_S', 'учитель_S', 'преподавательница_S', 'ученица_S', 'преподаватель_S', 'завуч_S', 'наставница_S', 'артист_S', 'актриса_S', 'режиссер_S', 'драматург_S', 'музыкант_S', 'артистка_S', 'спектакль_S', 'режиссура_S', 'художник_S', 'сцена_S']\n"
     ]
    }
   ],
   "source": [
    "new_prof = []\n",
    "for word in prof:\n",
    "    # проверяем наличие слова в модели \n",
    "    if word in model:\n",
    "        print(word)\n",
    "        # смотрим на вектор слова \n",
    "        print(model[word][:10])\n",
    "        # выдаем 10 ближайших соседей слова:\n",
    "        for i in model.most_similar(positive=[word], topn=10):\n",
    "            # слово + коэффициент косинусной близости\n",
    "            print(i[0], i[1])\n",
    "            if i[1] >0.5:\n",
    "                new_prof.append(i[0])\n",
    "        print('\\n')\n",
    "    else:\n",
    "        # Увы!\n",
    "        print('Увы, слова \"%s\" нет в модели!' % word)\n",
    "              \n",
    "print(new_prof)\n",
    "for i in new_prof:\n",
    "    prof.append(i)\n",
    "print(prof)"
   ]
  }
 ],
 "metadata": {
  "kernelspec": {
   "display_name": "Python 3",
   "language": "python",
   "name": "python3"
  },
  "language_info": {
   "codemirror_mode": {
    "name": "ipython",
    "version": 3
   },
   "file_extension": ".py",
   "mimetype": "text/x-python",
   "name": "python",
   "nbconvert_exporter": "python",
   "pygments_lexer": "ipython3",
   "version": "3.6.5"
  }
 },
 "nbformat": 4,
 "nbformat_minor": 2
}
